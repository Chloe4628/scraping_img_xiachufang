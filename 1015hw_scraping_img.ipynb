{
 "cells": [
  {
   "cell_type": "code",
   "execution_count": 78,
   "metadata": {},
   "outputs": [],
   "source": [
    "from bs4 import BeautifulSoup\n",
    "import requests\n",
    "import time\n",
    "import os\n",
    "\n",
    "code = input(\"Please enter the index of the category: \")\n",
    "url = \"https://www.xiachufang.com/category/\" + code\n",
    "headers = {\n",
    "        \"Accept\": \"text/html,application/xhtml+xml,application/xml;q=0.9,image/webp,image/apng,*/*;q=0.8\",\n",
    "        \"User-Agent\": \"Mozilla/5.0 (Windows NT 10.0; WOW64) AppleWebKit/537.36 (KHTML, like Gecko) Chrome/63.0.3239.132 Safari/537.36\"\n",
    "        }\n",
    "r = requests.get(url, headers=headers)\n",
    "r.raise_for_status()\n",
    "# requests库本身遇到访问失败不会报错，使用此方法则会抛出异常，更直观"
   ]
  },
  {
   "cell_type": "code",
   "execution_count": 79,
   "metadata": {},
   "outputs": [
    {
     "name": "stdout",
     "output_type": "stream",
     "text": [
      "土豆\n"
     ]
    }
   ],
   "source": [
    "try:\n",
    "    soup = BeautifulSoup(r.text, 'html.parser')\n",
    "    recipe_list = soup.find_all(\"div\", attrs = {'class': 'recipe recipe-215-horizontal pure-g image-link display-block'})\n",
    "    food = soup.find(\"h1\").text\n",
    "    print(food)\n",
    "except Exception as e:\n",
    "    print(e)"
   ]
  },
  {
   "cell_type": "code",
   "execution_count": 80,
   "metadata": {},
   "outputs": [],
   "source": [
    "def download_img(src, alt):\n",
    "    try:\n",
    "        response = requests.get(src, headers = headers)\n",
    "        time.sleep(2)\n",
    "        response.raise_for_status()\n",
    "\n",
    "        # 创建本地保存路径，这里我的图片名称在网页里为img的alt，于函数外获取；文件格式则是于函数内获取\n",
    "        content_type = response.headers[\"Content-Type\"]\n",
    "        if 'image/jpeg' in content_type:\n",
    "            file_extension = 'jpg'\n",
    "        elif 'image/png' in content_type:\n",
    "            file_extension = 'png'\n",
    "        elif 'image/gif' in content_type:\n",
    "            file_extension = 'gif'\n",
    "        else:\n",
    "            file_extension = 'bin'\n",
    "        img_path = f'./recipe_img_{food}/' + alt + f'.{file_extension}'\n",
    "        with open(img_path, 'wb') as file:\n",
    "            file.write(response.content)\n",
    "    except requests.exceptions.RequestException as e:\n",
    "        print(f\"Failed! {e}\")"
   ]
  },
  {
   "cell_type": "code",
   "execution_count": 81,
   "metadata": {},
   "outputs": [
    {
     "name": "stdout",
     "output_type": "stream",
     "text": [
      "🔥巨下饭，软糯入味！比肉还好吃的红烧土豆\n",
      "烧烤风味的土豆小香肠\n",
      "土豆的神仙吃法‼️巨简单 ｜ 炸薯饼\n",
      "秒杀路边摊✨自制狼牙土豆🥔-在家就能做的美味「0失败」\n",
      "土豆饼(土豆胡萝卜丝饼)\n",
      "干锅土豆片\n",
      "最喜欢的炒土豆丝\n",
      "锅巴土豆\n",
      "空气炸锅土豆饼\n",
      "一定要做一次的孜然土豆片\n",
      "番茄土豆焖面 这个巨巨巨好吃！！\n",
      "洋葱土豆片\n",
      "KFC口味土豆泥\n",
      "黑椒脆薯饼，一个土豆做一大盘的小零食，哄娃神器，强过薯片百倍\n",
      "土豆🥔的灵魂吃法，烧土豆，孩子的最爱❤️\n",
      "🥔超级好吃的土豆沙拉🥔\n",
      "青椒土豆片\n",
      "香辣孜然土豆牛肉粒，这么做巨巨巨好吃！！\n",
      "干锅土豆片\n",
      "减脂一定要吃的土豆丝饼🥔外脆里软快手早餐\n"
     ]
    }
   ],
   "source": [
    "if not os.path.exists(f'./recipe_img_{food}'):\n",
    "    os.makedirs(f'./recipe_img_{food}')\n",
    "\n",
    "for recipe in recipe_list:\n",
    "    img_alt = recipe.find(\"img\").get('alt').replace(\"/\", \"、\")\n",
    "    print(img_alt)\n",
    "    img_src = recipe.find(\"img\").get('data-src')\n",
    "    download_img(img_src, img_alt)"
   ]
  }
 ],
 "metadata": {
  "kernelspec": {
   "display_name": "tkhconda",
   "language": "python",
   "name": "python3"
  },
  "language_info": {
   "codemirror_mode": {
    "name": "ipython",
    "version": 3
   },
   "file_extension": ".py",
   "mimetype": "text/x-python",
   "name": "python",
   "nbconvert_exporter": "python",
   "pygments_lexer": "ipython3",
   "version": "3.12.2"
  }
 },
 "nbformat": 4,
 "nbformat_minor": 2
}
